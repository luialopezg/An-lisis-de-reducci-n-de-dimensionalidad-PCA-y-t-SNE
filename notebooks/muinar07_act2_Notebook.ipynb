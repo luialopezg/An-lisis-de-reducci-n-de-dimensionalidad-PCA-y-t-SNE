{
 "cells": [
  {
   "cell_type": "markdown",
   "id": "116d79c8-420c-4e5e-8e46-75db367f0d4e",
   "metadata": {},
   "source": [
    "![image-2.png](attachment:image-2.png)\n",
    "_Aprendizaje Automático_\n",
    "\n",
    "_Máster Universitario en Inteligencia Artificial_\n",
    "\n",
    "# Análisis de reducción de dimensionalidad: PCA y t-SNE\n",
    "## Objetivo General\n",
    "En este trabajo, se busca que pongas en práctica la aplicación de algoritmos de reducción de dimensionalidad. El objetivo es aplicar técnicas para reducir la dimensionalidad a 2D, graficar los resultados y seleccionar la mejor técnica para los datos. Además, deberás detallar los pasos a seguir para la reducción de dimensionalidad y analizar los resultados obtenidos.\n",
    "\n",
    "### Objetivos específicos \n",
    "* Entender los métodos de t-SNE y PCA.\n",
    "* Realizar la reducción de dimensionalidad utilizando t-SNE y PCA.\n",
    "* Comparar los resultados obtenidos con ambos métodos.\n",
    "* Aplicar LDA para reducir el dataset a una bolsa de palabras por cada etiqueta.\n",
    "\n",
    "### Tareas a Realizar:\n",
    "Debes realizar esta actividad en el Notebook adjunto. A medida que avances, completa el código solicitado y responde a las preguntas que se plantean.\n",
    "Las tareas a realizar son:\n",
    "\n",
    "* Reducción de Dimensionalidad con t-SNE y PCA:\n",
    "* Completa el código proporcionado en el notebook.\n",
    "* Responde a las preguntas finales sobre los resultados obtenidos.\n",
    "\n",
    "#### Punto adicional: Aplicación de LDA:\n",
    "\n",
    "Utiliza la técnica de LDA para generar una bolsa de palabras para cada una de las etiquetas.\n",
    "\n",
    "\n",
    "\n"
   ]
  },
  {
   "cell_type": "markdown",
   "id": "ddcc9c5e-5c10-48f1-96a6-abc809aa7f89",
   "metadata": {},
   "source": [
    "### Coloca en este espacio el nombre del estudiante"
   ]
  },
  {
   "cell_type": "code",
   "execution_count": 1,
   "id": "022c9682-e1d2-4693-ae82-b355bc69aa3b",
   "metadata": {},
   "outputs": [],
   "source": [
    "# Luis Alberto López González\n"
   ]
  },
  {
   "cell_type": "markdown",
   "id": "5fb398f5-7192-4d85-94a4-fc4876302d5a",
   "metadata": {},
   "source": [
    "### Dataset"
   ]
  },
  {
   "cell_type": "markdown",
   "id": "d985c7dd-f9ba-4008-bf71-9e86adef9241",
   "metadata": {},
   "source": [
    "#### Dataset\n",
    "\n",
    "El dataset original proporcionado en el proyecto transversal ha sido adaptado para la realización de esta actividad. Esa adaptación ha incluido:\n",
    "* Eliminación de nulos y duplicados\n",
    "* Eliminación de URLs, emojis y menciones a los periódicos\n",
    "* Eliminación de filas vacías\n",
    "* Limpieza y homogeneización de datos.\n",
    "* Convertir la totalidad del texto a minúscula\n",
    "* Eliminar signos de puntuación\n",
    "* Eliminar números\n",
    "* Eliminar espacios en blanco adicionales\n",
    "* Eliminar palabras con longitud menor a 2 caracteres\n",
    "* Eliminar stopwords\n",
    "* Tokenización\n",
    "* Lematización\n",
    "\n",
    "Proceso de extracción de características\n",
    "* Conteo de palabras positivas (A)\n",
    "* Conteo de palabras negativas (B)\n",
    "* Conteo del número de bigrams más comunes (C)\n",
    "* Conteo del número de menciones a otros usuarios (D)\n",
    "* Categoría del sentimiento según librería ‘pysentimiento’ en español (E)\n",
    "* Estandarización de las características (A_t,..E_t)\n",
    "* Combinación de características f1*fi (iA..iE) (Valor1,..Valor10)."
   ]
  },
  {
   "cell_type": "markdown",
   "id": "36846f7c-cdf3-4d0d-9205-f57a51fdd5d9",
   "metadata": {},
   "source": [
    "### Lectura de datos"
   ]
  },
  {
   "cell_type": "code",
   "execution_count": 2,
   "id": "b2854676-bc3d-4f79-80f0-82ac3db79ac9",
   "metadata": {},
   "outputs": [
    {
     "name": "stdout",
     "output_type": "stream",
     "text": [
      "El dataset tiene 10000 filas y 22 columnas.\n"
     ]
    }
   ],
   "source": [
    "import pandas as pd\n",
    "\n",
    "# Leer el archivo CSV\n",
    "file_path = 'out.csv'\n",
    "data = pd.read_csv(file_path)\n",
    "\n",
    "# Obtener el número de filas y columnas\n",
    "num_filas, num_columnas = data.shape\n",
    "\n",
    "# Mostrar el número de filas y columnas\n",
    "print(f\"El dataset tiene {num_filas} filas y {num_columnas} columnas.\")"
   ]
  },
  {
   "cell_type": "code",
   "execution_count": 1,
   "id": "45d7c7a1-856a-45aa-aa3d-5cbc4bb74eef",
   "metadata": {},
   "outputs": [],
   "source": [
    "##Cuántas categorías hay en la columna label\n",
    "# Contar el número de categorías únicas en la columna 'label'"
   ]
  },
  {
   "cell_type": "code",
   "execution_count": 2,
   "id": "984025ae-c3d2-424e-965b-d96b96bfd095",
   "metadata": {},
   "outputs": [],
   "source": [
    "# Obtener estadísticas descriptivas de las variables numéricas\n",
    "\n",
    "\n",
    "# Obtener la frecuencia de las categorías en la columna 'label'\n",
    "\n",
    "\n",
    "# Mostrar las estadísticas y la frecuencia de las categorías\n"
   ]
  },
  {
   "cell_type": "code",
   "execution_count": 3,
   "id": "cda2a18f-6e6c-4e90-8175-e75e9e50b676",
   "metadata": {},
   "outputs": [],
   "source": [
    "# Crear una matriz de gráficos de dispersión (pairplot)\n"
   ]
  },
  {
   "cell_type": "code",
   "execution_count": 4,
   "id": "51036280-d3e3-4634-b703-59aa64abca90",
   "metadata": {},
   "outputs": [],
   "source": [
    "# Eliminar columnas que empiecen por 'Valor_' y la columna 'comentario'\n",
    "\n",
    "# Mostrar las primeras filas del nuevo dataframe para verificar\n"
   ]
  },
  {
   "cell_type": "code",
   "execution_count": 6,
   "id": "b02d1a83-4c8d-4812-a05f-1c66d03d5703",
   "metadata": {},
   "outputs": [],
   "source": [
    "# Estandarizar las columnas, excepto 'label'\n"
   ]
  },
  {
   "cell_type": "code",
   "execution_count": 7,
   "id": "db687fab-10d2-4ffd-a3b1-f4ab95662d4f",
   "metadata": {},
   "outputs": [],
   "source": [
    "# Separar las características y las etiquetas\n"
   ]
  },
  {
   "cell_type": "markdown",
   "id": "c25db71a-9adc-4055-b60d-59072a82bd4e",
   "metadata": {},
   "source": [
    "### PCA"
   ]
  },
  {
   "cell_type": "code",
   "execution_count": 8,
   "id": "ef1b4b88-a71f-484d-be91-b9203fb8a545",
   "metadata": {},
   "outputs": [],
   "source": [
    "# Aplicar PCA\n",
    "\n",
    "# Crear un DataFrame con los resultados de PCA\n"
   ]
  },
  {
   "cell_type": "code",
   "execution_count": 9,
   "id": "7f24a393-d769-491c-b59c-bd8f5b55ebf5",
   "metadata": {},
   "outputs": [],
   "source": [
    "# Visualizar los resultados de PCA\n"
   ]
  },
  {
   "cell_type": "code",
   "execution_count": 10,
   "id": "b163e074-0810-4c29-80ac-d2d2b7e1f81e",
   "metadata": {},
   "outputs": [],
   "source": [
    "# Dividir los datos en conjunto de entrenamiento y prueba\n",
    "\n",
    "\n",
    "# Entrenar un modelo de clasificación (por ejemplo, RandomForest)\n",
    "\n",
    "# Predecir y evaluar el modelo\n"
   ]
  },
  {
   "cell_type": "markdown",
   "id": "a4941628-c05c-4f0d-bf0c-cc18499b7094",
   "metadata": {},
   "source": [
    "#### Analice los resultados obtenidos por PCA"
   ]
  },
  {
   "cell_type": "markdown",
   "id": "1385c4fc-53ac-42d4-8c6a-997f63f3d4f1",
   "metadata": {},
   "source": [
    "### t-SNE"
   ]
  },
  {
   "cell_type": "code",
   "execution_count": 11,
   "id": "511b0e0c-6563-4b61-ab01-ac3aa8bbf864",
   "metadata": {},
   "outputs": [],
   "source": [
    "# Aplicar t-SNE\n",
    "\n",
    "# Crear un DataFrame con los resultados de t-SNE\n",
    "\n",
    "# Visualizar los resultados de t-SNE\n"
   ]
  },
  {
   "cell_type": "markdown",
   "id": "a19db163-d85e-4846-9097-677dae70d070",
   "metadata": {},
   "source": [
    "#### Analice los resultados obtenidos por t-SNE"
   ]
  },
  {
   "cell_type": "markdown",
   "id": "485a4816-8d5f-4c15-b4d0-24bb743d7c89",
   "metadata": {},
   "source": [
    "### Utilizar t-SNE para clasificar"
   ]
  },
  {
   "cell_type": "code",
   "execution_count": 12,
   "id": "0890159a-81d0-4f76-ad4b-ae29c3307381",
   "metadata": {},
   "outputs": [],
   "source": [
    "# Dividir los datos en conjunto de entrenamiento y prueba\n",
    "\n",
    "\n",
    "# Entrenar un modelo de clasificación (por ejemplo, RandomForest)\n",
    "\n",
    "# Predecir y evaluar el modelo\n"
   ]
  },
  {
   "cell_type": "markdown",
   "id": "47f5fc4d-45a8-49f6-aa44-3997895b51ec",
   "metadata": {},
   "source": [
    "#### ¿Se puede utilizar la reducción de dimensinalidad obtenida por t-SNE para entrenar un algoritmo de clasificación?"
   ]
  },
  {
   "cell_type": "markdown",
   "id": "35f362fd-c55a-4a4a-889f-371a01cd37e5",
   "metadata": {},
   "source": [
    "### LDA"
   ]
  },
  {
   "cell_type": "code",
   "execution_count": 13,
   "id": "e0715f67-e0d4-49e6-8edc-7c483923149f",
   "metadata": {},
   "outputs": [],
   "source": [
    "# Descargar las palabras vacías en español\n",
    "\n",
    "# Preprocesar la columna 'comentario'\n",
    "\n",
    "# Aplicar LDA\n",
    "\n",
    "# Mostrar los temas\n"
   ]
  },
  {
   "cell_type": "markdown",
   "id": "2b95ac81-db25-413b-88e3-765a05a19dc9",
   "metadata": {},
   "source": [
    "Preprocesamiento: Este paso convierte el texto en una matriz de términos.\n",
    "Aplicación de LDA: Ejecuta el algoritmo LDA para encontrar los temas.\n",
    "Visualización de Temas: Imprime los temas encontrados con las palabras más representativas."
   ]
  },
  {
   "cell_type": "markdown",
   "id": "315fbf75-da67-49e8-a7d4-667afcae7490",
   "metadata": {},
   "source": [
    "### LDA en función del label"
   ]
  },
  {
   "cell_type": "code",
   "execution_count": 14,
   "id": "c126597a-4e74-46c9-9fea-a97bad3dc734",
   "metadata": {},
   "outputs": [],
   "source": [
    "# Descargar las palabras vacías en español\n",
    "\n",
    "\n",
    "# Definir función para aplicar LDA y obtener temas\n",
    "\n",
    "# Aplicar LDA por cada etiqueta de label y guardar en archivos CSV\n",
    "    # Crear un DataFrame para los temas\n",
    "\n",
    "    \n",
    "    # Guardar el DataFrame en un archivo CSV\n"
   ]
  },
  {
   "cell_type": "code",
   "execution_count": 15,
   "id": "c69d2109-1c6b-4ce7-9f6f-38f576631868",
   "metadata": {},
   "outputs": [],
   "source": [
    "# Generar bolsas de palabras para cada tema\n",
    "\n",
    "# Asignar temas a comentarios\n",
    "\n",
    "# Generar bolsas de palabras para cada etiqueta\n",
    "\n",
    "# Asignar temas a comentarios y comparar con etiquetas reales\n",
    "\n",
    "# Comparar temas asignados con etiquetas reales\n"
   ]
  }
 ],
 "metadata": {
  "kernelspec": {
   "display_name": "venv",
   "language": "python",
   "name": "python3"
  },
  "language_info": {
   "codemirror_mode": {
    "name": "ipython",
    "version": 3
   },
   "file_extension": ".py",
   "mimetype": "text/x-python",
   "name": "python",
   "nbconvert_exporter": "python",
   "pygments_lexer": "ipython3",
   "version": "3.10.12"
  }
 },
 "nbformat": 4,
 "nbformat_minor": 5
}
