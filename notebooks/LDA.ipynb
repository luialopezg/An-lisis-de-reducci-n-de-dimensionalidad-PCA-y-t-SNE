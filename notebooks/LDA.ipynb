{
 "cells": [
  {
   "cell_type": "markdown",
   "id": "90f8cd74-0ab8-412c-b749-979de0a49a82",
   "metadata": {},
   "source": [
    "## LDA utilizando Spacy"
   ]
  },
  {
   "cell_type": "code",
   "execution_count": 5,
   "id": "4c2539e8-af09-4cf4-bc09-9173757caf00",
   "metadata": {},
   "outputs": [
    {
     "name": "stdout",
     "output_type": "stream",
     "text": [
      "Requirement already satisfied: spacy in c:\\programdata\\anaconda3\\envs\\proyectovictorpython39\\lib\\site-packages (3.7.5)\n",
      "Requirement already satisfied: spacy-legacy<3.1.0,>=3.0.11 in c:\\programdata\\anaconda3\\envs\\proyectovictorpython39\\lib\\site-packages (from spacy) (3.0.12)\n",
      "Requirement already satisfied: spacy-loggers<2.0.0,>=1.0.0 in c:\\programdata\\anaconda3\\envs\\proyectovictorpython39\\lib\\site-packages (from spacy) (1.0.5)\n",
      "Requirement already satisfied: murmurhash<1.1.0,>=0.28.0 in c:\\programdata\\anaconda3\\envs\\proyectovictorpython39\\lib\\site-packages (from spacy) (1.0.10)\n",
      "Requirement already satisfied: cymem<2.1.0,>=2.0.2 in c:\\programdata\\anaconda3\\envs\\proyectovictorpython39\\lib\\site-packages (from spacy) (2.0.8)\n",
      "Requirement already satisfied: preshed<3.1.0,>=3.0.2 in c:\\programdata\\anaconda3\\envs\\proyectovictorpython39\\lib\\site-packages (from spacy) (3.0.9)\n",
      "Requirement already satisfied: thinc<8.3.0,>=8.2.2 in c:\\programdata\\anaconda3\\envs\\proyectovictorpython39\\lib\\site-packages (from spacy) (8.2.5)\n",
      "Requirement already satisfied: wasabi<1.2.0,>=0.9.1 in c:\\programdata\\anaconda3\\envs\\proyectovictorpython39\\lib\\site-packages (from spacy) (1.1.3)\n",
      "Requirement already satisfied: srsly<3.0.0,>=2.4.3 in c:\\programdata\\anaconda3\\envs\\proyectovictorpython39\\lib\\site-packages (from spacy) (2.4.8)\n",
      "Requirement already satisfied: catalogue<2.1.0,>=2.0.6 in c:\\programdata\\anaconda3\\envs\\proyectovictorpython39\\lib\\site-packages (from spacy) (2.0.10)\n",
      "Requirement already satisfied: weasel<0.5.0,>=0.1.0 in c:\\programdata\\anaconda3\\envs\\proyectovictorpython39\\lib\\site-packages (from spacy) (0.4.1)\n",
      "Requirement already satisfied: typer<1.0.0,>=0.3.0 in c:\\programdata\\anaconda3\\envs\\proyectovictorpython39\\lib\\site-packages (from spacy) (0.9.4)\n",
      "Requirement already satisfied: tqdm<5.0.0,>=4.38.0 in c:\\programdata\\anaconda3\\envs\\proyectovictorpython39\\lib\\site-packages (from spacy) (4.66.4)\n",
      "Requirement already satisfied: requests<3.0.0,>=2.13.0 in c:\\programdata\\anaconda3\\envs\\proyectovictorpython39\\lib\\site-packages (from spacy) (2.31.0)\n",
      "Requirement already satisfied: pydantic!=1.8,!=1.8.1,<3.0.0,>=1.7.4 in c:\\programdata\\anaconda3\\envs\\proyectovictorpython39\\lib\\site-packages (from spacy) (2.7.3)\n",
      "Requirement already satisfied: jinja2 in c:\\programdata\\anaconda3\\envs\\proyectovictorpython39\\lib\\site-packages (from spacy) (3.1.3)\n",
      "Requirement already satisfied: setuptools in c:\\programdata\\anaconda3\\envs\\proyectovictorpython39\\lib\\site-packages (from spacy) (68.2.2)\n",
      "Requirement already satisfied: packaging>=20.0 in c:\\programdata\\anaconda3\\envs\\proyectovictorpython39\\lib\\site-packages (from spacy) (23.1)\n",
      "Requirement already satisfied: langcodes<4.0.0,>=3.2.0 in c:\\programdata\\anaconda3\\envs\\proyectovictorpython39\\lib\\site-packages (from spacy) (3.4.1)\n",
      "Requirement already satisfied: numpy>=1.19.0 in c:\\programdata\\anaconda3\\envs\\proyectovictorpython39\\lib\\site-packages (from spacy) (1.26.0)\n",
      "Requirement already satisfied: language-data>=1.2 in c:\\programdata\\anaconda3\\envs\\proyectovictorpython39\\lib\\site-packages (from langcodes<4.0.0,>=3.2.0->spacy) (1.2.0)\n",
      "Requirement already satisfied: annotated-types>=0.4.0 in c:\\programdata\\anaconda3\\envs\\proyectovictorpython39\\lib\\site-packages (from pydantic!=1.8,!=1.8.1,<3.0.0,>=1.7.4->spacy) (0.7.0)\n",
      "Requirement already satisfied: pydantic-core==2.18.4 in c:\\programdata\\anaconda3\\envs\\proyectovictorpython39\\lib\\site-packages (from pydantic!=1.8,!=1.8.1,<3.0.0,>=1.7.4->spacy) (2.18.4)\n",
      "Requirement already satisfied: typing-extensions>=4.6.1 in c:\\programdata\\anaconda3\\envs\\proyectovictorpython39\\lib\\site-packages (from pydantic!=1.8,!=1.8.1,<3.0.0,>=1.7.4->spacy) (4.9.0)\n",
      "Requirement already satisfied: charset-normalizer<4,>=2 in c:\\programdata\\anaconda3\\envs\\proyectovictorpython39\\lib\\site-packages (from requests<3.0.0,>=2.13.0->spacy) (2.0.4)\n",
      "Requirement already satisfied: idna<4,>=2.5 in c:\\programdata\\anaconda3\\envs\\proyectovictorpython39\\lib\\site-packages (from requests<3.0.0,>=2.13.0->spacy) (3.4)\n",
      "Requirement already satisfied: urllib3<3,>=1.21.1 in c:\\programdata\\anaconda3\\envs\\proyectovictorpython39\\lib\\site-packages (from requests<3.0.0,>=2.13.0->spacy) (2.1.0)\n",
      "Requirement already satisfied: certifi>=2017.4.17 in c:\\programdata\\anaconda3\\envs\\proyectovictorpython39\\lib\\site-packages (from requests<3.0.0,>=2.13.0->spacy) (2024.8.30)\n",
      "Requirement already satisfied: blis<0.8.0,>=0.7.8 in c:\\programdata\\anaconda3\\envs\\proyectovictorpython39\\lib\\site-packages (from thinc<8.3.0,>=8.2.2->spacy) (0.7.11)\n",
      "Requirement already satisfied: confection<1.0.0,>=0.0.1 in c:\\programdata\\anaconda3\\envs\\proyectovictorpython39\\lib\\site-packages (from thinc<8.3.0,>=8.2.2->spacy) (0.1.5)\n",
      "Requirement already satisfied: colorama in c:\\programdata\\anaconda3\\envs\\proyectovictorpython39\\lib\\site-packages (from tqdm<5.0.0,>=4.38.0->spacy) (0.4.6)\n",
      "Requirement already satisfied: click<9.0.0,>=7.1.1 in c:\\programdata\\anaconda3\\envs\\proyectovictorpython39\\lib\\site-packages (from typer<1.0.0,>=0.3.0->spacy) (8.1.7)\n",
      "Requirement already satisfied: cloudpathlib<1.0.0,>=0.7.0 in c:\\programdata\\anaconda3\\envs\\proyectovictorpython39\\lib\\site-packages (from weasel<0.5.0,>=0.1.0->spacy) (0.20.0)\n",
      "Requirement already satisfied: smart-open<8.0.0,>=5.2.1 in c:\\programdata\\anaconda3\\envs\\proyectovictorpython39\\lib\\site-packages (from weasel<0.5.0,>=0.1.0->spacy) (7.0.4)\n",
      "Requirement already satisfied: MarkupSafe>=2.0 in c:\\programdata\\anaconda3\\envs\\proyectovictorpython39\\lib\\site-packages (from jinja2->spacy) (2.1.3)\n",
      "Requirement already satisfied: marisa-trie>=0.7.7 in c:\\programdata\\anaconda3\\envs\\proyectovictorpython39\\lib\\site-packages (from language-data>=1.2->langcodes<4.0.0,>=3.2.0->spacy) (1.2.1)\n",
      "Requirement already satisfied: wrapt in c:\\programdata\\anaconda3\\envs\\proyectovictorpython39\\lib\\site-packages (from smart-open<8.0.0,>=5.2.1->weasel<0.5.0,>=0.1.0->spacy) (1.16.0)\n"
     ]
    }
   ],
   "source": [
    "# Instalar spacy \n",
    "!pip install spacy"
   ]
  },
  {
   "cell_type": "code",
   "execution_count": 6,
   "id": "202a4444-53c2-47b1-8b11-4db91456d773",
   "metadata": {},
   "outputs": [],
   "source": [
    "import pandas as pd\n",
    "import numpy as np\n",
    "import re\n",
    "import gensim\n",
    "import spacy\n",
    "from gensim import corpora\n",
    "from nltk.corpus import stopwords\n",
    "from pprint import pprint"
   ]
  },
  {
   "cell_type": "code",
   "execution_count": 7,
   "id": "cd94cc5b-f933-4f45-8c87-abe773b12e31",
   "metadata": {},
   "outputs": [
    {
     "name": "stdout",
     "output_type": "stream",
     "text": [
      "Collecting es-core-news-sm==3.7.0\n",
      "  Downloading https://github.com/explosion/spacy-models/releases/download/es_core_news_sm-3.7.0/es_core_news_sm-3.7.0-py3-none-any.whl (12.9 MB)\n",
      "     ---------------------------------------- 0.0/12.9 MB ? eta -:--:--\n",
      "     ----------- ---------------------------- 3.7/12.9 MB 19.8 MB/s eta 0:00:01\n",
      "     --------------------- ------------------ 7.1/12.9 MB 17.4 MB/s eta 0:00:01\n",
      "     --------------------------------- ----- 11.0/12.9 MB 18.1 MB/s eta 0:00:01\n",
      "     --------------------------------------- 12.9/12.9 MB 17.2 MB/s eta 0:00:00\n",
      "Requirement already satisfied: spacy<3.8.0,>=3.7.0 in c:\\programdata\\anaconda3\\envs\\proyectovictorpython39\\lib\\site-packages (from es-core-news-sm==3.7.0) (3.7.5)\n",
      "Requirement already satisfied: spacy-legacy<3.1.0,>=3.0.11 in c:\\programdata\\anaconda3\\envs\\proyectovictorpython39\\lib\\site-packages (from spacy<3.8.0,>=3.7.0->es-core-news-sm==3.7.0) (3.0.12)\n",
      "Requirement already satisfied: spacy-loggers<2.0.0,>=1.0.0 in c:\\programdata\\anaconda3\\envs\\proyectovictorpython39\\lib\\site-packages (from spacy<3.8.0,>=3.7.0->es-core-news-sm==3.7.0) (1.0.5)\n",
      "Requirement already satisfied: murmurhash<1.1.0,>=0.28.0 in c:\\programdata\\anaconda3\\envs\\proyectovictorpython39\\lib\\site-packages (from spacy<3.8.0,>=3.7.0->es-core-news-sm==3.7.0) (1.0.10)\n",
      "Requirement already satisfied: cymem<2.1.0,>=2.0.2 in c:\\programdata\\anaconda3\\envs\\proyectovictorpython39\\lib\\site-packages (from spacy<3.8.0,>=3.7.0->es-core-news-sm==3.7.0) (2.0.8)\n",
      "Requirement already satisfied: preshed<3.1.0,>=3.0.2 in c:\\programdata\\anaconda3\\envs\\proyectovictorpython39\\lib\\site-packages (from spacy<3.8.0,>=3.7.0->es-core-news-sm==3.7.0) (3.0.9)\n",
      "Requirement already satisfied: thinc<8.3.0,>=8.2.2 in c:\\programdata\\anaconda3\\envs\\proyectovictorpython39\\lib\\site-packages (from spacy<3.8.0,>=3.7.0->es-core-news-sm==3.7.0) (8.2.5)\n",
      "Requirement already satisfied: wasabi<1.2.0,>=0.9.1 in c:\\programdata\\anaconda3\\envs\\proyectovictorpython39\\lib\\site-packages (from spacy<3.8.0,>=3.7.0->es-core-news-sm==3.7.0) (1.1.3)\n",
      "Requirement already satisfied: srsly<3.0.0,>=2.4.3 in c:\\programdata\\anaconda3\\envs\\proyectovictorpython39\\lib\\site-packages (from spacy<3.8.0,>=3.7.0->es-core-news-sm==3.7.0) (2.4.8)\n",
      "Requirement already satisfied: catalogue<2.1.0,>=2.0.6 in c:\\programdata\\anaconda3\\envs\\proyectovictorpython39\\lib\\site-packages (from spacy<3.8.0,>=3.7.0->es-core-news-sm==3.7.0) (2.0.10)\n",
      "Requirement already satisfied: weasel<0.5.0,>=0.1.0 in c:\\programdata\\anaconda3\\envs\\proyectovictorpython39\\lib\\site-packages (from spacy<3.8.0,>=3.7.0->es-core-news-sm==3.7.0) (0.4.1)\n",
      "Requirement already satisfied: typer<1.0.0,>=0.3.0 in c:\\programdata\\anaconda3\\envs\\proyectovictorpython39\\lib\\site-packages (from spacy<3.8.0,>=3.7.0->es-core-news-sm==3.7.0) (0.9.4)\n",
      "Requirement already satisfied: tqdm<5.0.0,>=4.38.0 in c:\\programdata\\anaconda3\\envs\\proyectovictorpython39\\lib\\site-packages (from spacy<3.8.0,>=3.7.0->es-core-news-sm==3.7.0) (4.66.4)\n",
      "Requirement already satisfied: requests<3.0.0,>=2.13.0 in c:\\programdata\\anaconda3\\envs\\proyectovictorpython39\\lib\\site-packages (from spacy<3.8.0,>=3.7.0->es-core-news-sm==3.7.0) (2.31.0)\n",
      "Requirement already satisfied: pydantic!=1.8,!=1.8.1,<3.0.0,>=1.7.4 in c:\\programdata\\anaconda3\\envs\\proyectovictorpython39\\lib\\site-packages (from spacy<3.8.0,>=3.7.0->es-core-news-sm==3.7.0) (2.7.3)\n",
      "Requirement already satisfied: jinja2 in c:\\programdata\\anaconda3\\envs\\proyectovictorpython39\\lib\\site-packages (from spacy<3.8.0,>=3.7.0->es-core-news-sm==3.7.0) (3.1.3)\n",
      "Requirement already satisfied: setuptools in c:\\programdata\\anaconda3\\envs\\proyectovictorpython39\\lib\\site-packages (from spacy<3.8.0,>=3.7.0->es-core-news-sm==3.7.0) (68.2.2)\n",
      "Requirement already satisfied: packaging>=20.0 in c:\\programdata\\anaconda3\\envs\\proyectovictorpython39\\lib\\site-packages (from spacy<3.8.0,>=3.7.0->es-core-news-sm==3.7.0) (23.1)\n",
      "Requirement already satisfied: langcodes<4.0.0,>=3.2.0 in c:\\programdata\\anaconda3\\envs\\proyectovictorpython39\\lib\\site-packages (from spacy<3.8.0,>=3.7.0->es-core-news-sm==3.7.0) (3.4.1)\n",
      "Requirement already satisfied: numpy>=1.19.0 in c:\\programdata\\anaconda3\\envs\\proyectovictorpython39\\lib\\site-packages (from spacy<3.8.0,>=3.7.0->es-core-news-sm==3.7.0) (1.26.0)\n",
      "Requirement already satisfied: language-data>=1.2 in c:\\programdata\\anaconda3\\envs\\proyectovictorpython39\\lib\\site-packages (from langcodes<4.0.0,>=3.2.0->spacy<3.8.0,>=3.7.0->es-core-news-sm==3.7.0) (1.2.0)\n",
      "Requirement already satisfied: annotated-types>=0.4.0 in c:\\programdata\\anaconda3\\envs\\proyectovictorpython39\\lib\\site-packages (from pydantic!=1.8,!=1.8.1,<3.0.0,>=1.7.4->spacy<3.8.0,>=3.7.0->es-core-news-sm==3.7.0) (0.7.0)\n",
      "Requirement already satisfied: pydantic-core==2.18.4 in c:\\programdata\\anaconda3\\envs\\proyectovictorpython39\\lib\\site-packages (from pydantic!=1.8,!=1.8.1,<3.0.0,>=1.7.4->spacy<3.8.0,>=3.7.0->es-core-news-sm==3.7.0) (2.18.4)\n",
      "Requirement already satisfied: typing-extensions>=4.6.1 in c:\\programdata\\anaconda3\\envs\\proyectovictorpython39\\lib\\site-packages (from pydantic!=1.8,!=1.8.1,<3.0.0,>=1.7.4->spacy<3.8.0,>=3.7.0->es-core-news-sm==3.7.0) (4.9.0)\n",
      "Requirement already satisfied: charset-normalizer<4,>=2 in c:\\programdata\\anaconda3\\envs\\proyectovictorpython39\\lib\\site-packages (from requests<3.0.0,>=2.13.0->spacy<3.8.0,>=3.7.0->es-core-news-sm==3.7.0) (2.0.4)\n",
      "Requirement already satisfied: idna<4,>=2.5 in c:\\programdata\\anaconda3\\envs\\proyectovictorpython39\\lib\\site-packages (from requests<3.0.0,>=2.13.0->spacy<3.8.0,>=3.7.0->es-core-news-sm==3.7.0) (3.4)\n",
      "Requirement already satisfied: urllib3<3,>=1.21.1 in c:\\programdata\\anaconda3\\envs\\proyectovictorpython39\\lib\\site-packages (from requests<3.0.0,>=2.13.0->spacy<3.8.0,>=3.7.0->es-core-news-sm==3.7.0) (2.1.0)\n",
      "Requirement already satisfied: certifi>=2017.4.17 in c:\\programdata\\anaconda3\\envs\\proyectovictorpython39\\lib\\site-packages (from requests<3.0.0,>=2.13.0->spacy<3.8.0,>=3.7.0->es-core-news-sm==3.7.0) (2024.8.30)\n",
      "Requirement already satisfied: blis<0.8.0,>=0.7.8 in c:\\programdata\\anaconda3\\envs\\proyectovictorpython39\\lib\\site-packages (from thinc<8.3.0,>=8.2.2->spacy<3.8.0,>=3.7.0->es-core-news-sm==3.7.0) (0.7.11)\n",
      "Requirement already satisfied: confection<1.0.0,>=0.0.1 in c:\\programdata\\anaconda3\\envs\\proyectovictorpython39\\lib\\site-packages (from thinc<8.3.0,>=8.2.2->spacy<3.8.0,>=3.7.0->es-core-news-sm==3.7.0) (0.1.5)\n",
      "Requirement already satisfied: colorama in c:\\programdata\\anaconda3\\envs\\proyectovictorpython39\\lib\\site-packages (from tqdm<5.0.0,>=4.38.0->spacy<3.8.0,>=3.7.0->es-core-news-sm==3.7.0) (0.4.6)\n",
      "Requirement already satisfied: click<9.0.0,>=7.1.1 in c:\\programdata\\anaconda3\\envs\\proyectovictorpython39\\lib\\site-packages (from typer<1.0.0,>=0.3.0->spacy<3.8.0,>=3.7.0->es-core-news-sm==3.7.0) (8.1.7)\n",
      "Requirement already satisfied: cloudpathlib<1.0.0,>=0.7.0 in c:\\programdata\\anaconda3\\envs\\proyectovictorpython39\\lib\\site-packages (from weasel<0.5.0,>=0.1.0->spacy<3.8.0,>=3.7.0->es-core-news-sm==3.7.0) (0.20.0)\n",
      "Requirement already satisfied: smart-open<8.0.0,>=5.2.1 in c:\\programdata\\anaconda3\\envs\\proyectovictorpython39\\lib\\site-packages (from weasel<0.5.0,>=0.1.0->spacy<3.8.0,>=3.7.0->es-core-news-sm==3.7.0) (7.0.4)\n",
      "Requirement already satisfied: MarkupSafe>=2.0 in c:\\programdata\\anaconda3\\envs\\proyectovictorpython39\\lib\\site-packages (from jinja2->spacy<3.8.0,>=3.7.0->es-core-news-sm==3.7.0) (2.1.3)\n",
      "Requirement already satisfied: marisa-trie>=0.7.7 in c:\\programdata\\anaconda3\\envs\\proyectovictorpython39\\lib\\site-packages (from language-data>=1.2->langcodes<4.0.0,>=3.2.0->spacy<3.8.0,>=3.7.0->es-core-news-sm==3.7.0) (1.2.1)\n",
      "Requirement already satisfied: wrapt in c:\\programdata\\anaconda3\\envs\\proyectovictorpython39\\lib\\site-packages (from smart-open<8.0.0,>=5.2.1->weasel<0.5.0,>=0.1.0->spacy<3.8.0,>=3.7.0->es-core-news-sm==3.7.0) (1.16.0)\n",
      "Installing collected packages: es-core-news-sm\n",
      "Successfully installed es-core-news-sm-3.7.0\n",
      "\u001b[38;5;2m[+] Download and installation successful\u001b[0m\n",
      "You can now load the package via spacy.load('es_core_news_sm')\n"
     ]
    }
   ],
   "source": [
    "# modelo en español de spaCy\n",
    "!python -m spacy download es_core_news_sm"
   ]
  },
  {
   "cell_type": "code",
   "execution_count": 8,
   "id": "84f6215f-6af0-4547-a4e3-043060519871",
   "metadata": {},
   "outputs": [],
   "source": [
    "# Lista de textos de ejemplo\n",
    "texts = [\n",
    "    \"La inteligencia artificial está revolucionando la industria.\",\n",
    "    \"Los avances en aprendizaje profundo permiten nuevas aplicaciones.\",\n",
    "    \"La ética en inteligencia artificial es fundamental para su desarrollo.\",\n",
    "    \"Muchos algoritmos de aprendizaje no supervisado son complejos.\",\n",
    "    \"La visión por computadora es una rama de la inteligencia artificial.\"\n",
    "]"
   ]
  },
  {
   "cell_type": "code",
   "execution_count": 9,
   "id": "63371341-7ed7-4023-af51-7cccd928f127",
   "metadata": {},
   "outputs": [],
   "source": [
    "# Convertir a minúsculas y eliminar caracteres especiales\n",
    "texts = [re.sub(r'\\W', ' ', text.lower()) for text in texts]"
   ]
  },
  {
   "cell_type": "code",
   "execution_count": 10,
   "id": "9def88e9-e540-46fc-9039-6b794581005e",
   "metadata": {},
   "outputs": [],
   "source": [
    "# Cargar modelo en español\n",
    "nlp = spacy.load(\"es_core_news_sm\")\n",
    "\n",
    "# Stopwords en español\n",
    "stop_words = set(stopwords.words(\"spanish\"))\n",
    "\n",
    "# Función de preprocesamiento\n",
    "def preprocess(text):\n",
    "    doc = nlp(text)\n",
    "    tokens = [token.lemma_ for token in doc if token.lemma_ not in stop_words and not token.is_punct]\n",
    "    return tokens\n",
    "\n",
    "# Aplicar preprocesamiento\n",
    "data_processed = [preprocess(text) for text in texts]"
   ]
  },
  {
   "cell_type": "code",
   "execution_count": 11,
   "id": "6eabd38a-5dd0-4dd8-b8bc-bf7f02fabb7b",
   "metadata": {},
   "outputs": [],
   "source": [
    "# Crear diccionario\n",
    "dictionary = corpora.Dictionary(data_processed)\n",
    "\n",
    "# Crear corpus (bag of words)\n",
    "corpus = [dictionary.doc2bow(text) for text in data_processed]"
   ]
  },
  {
   "cell_type": "code",
   "execution_count": 12,
   "id": "13c65302-e57e-4a2c-b50c-9ddc94a97df6",
   "metadata": {},
   "outputs": [
    {
     "name": "stdout",
     "output_type": "stream",
     "text": [
      "[(0,\n",
      "  '0.114*\"inteligencia\" + 0.114*\"artificial\" + 0.113*\"ser\" + 0.049*\"rama\" + '\n",
      "  '0.049*\"computadora\" + 0.049*\"visión\" + 0.049*\"fundamental\" + 0.049*\"ética\" '\n",
      "  '+ 0.049*\"desarrollo\" + 0.048*\"industria\"'),\n",
      " (1,\n",
      "  '0.099*\"aprendizaje\" + 0.092*\"profundo\" + 0.092*\"avance\" + 0.092*\"permitir\" '\n",
      "  '+ 0.092*\"aplicación\" + 0.092*\"nuevo\" + 0.033*\"algoritmo\" + 0.032*\"complejo\" '\n",
      "  '+ 0.032*\"supervisado\" + 0.032*\"ser\"')]\n"
     ]
    }
   ],
   "source": [
    "# Configurar y entrenar modelo LDA\n",
    "lda_model = gensim.models.LdaModel(corpus=corpus, id2word=dictionary, num_topics=2, random_state=42, passes=10)\n",
    "\n",
    "# Mostrar los tópicos encontrados\n",
    "pprint(lda_model.print_topics())"
   ]
  },
  {
   "cell_type": "code",
   "execution_count": 13,
   "id": "064f1c95-2e69-4b84-8381-66d8dd0e4bb7",
   "metadata": {},
   "outputs": [
    {
     "name": "stdout",
     "output_type": "stream",
     "text": [
      "\n",
      "Texto 1: 'la inteligencia artificial está revolucionando la industria '\n",
      "Probabilidades de tópicos: [(0, 0.89394575), (1, 0.10605429)]\n",
      "\n",
      "Texto 2: 'los avances en aprendizaje profundo permiten nuevas aplicaciones '\n",
      "Probabilidades de tópicos: [(0, 0.07431644), (1, 0.92568356)]\n",
      "\n",
      "Texto 3: 'la ética en inteligencia artificial es fundamental para su desarrollo '\n",
      "Probabilidades de tópicos: [(0, 0.9242881), (1, 0.07571187)]\n",
      "\n",
      "Texto 4: 'muchos algoritmos de aprendizaje no supervisado son complejos '\n",
      "Probabilidades de tópicos: [(0, 0.887001), (1, 0.11299909)]\n",
      "\n",
      "Texto 5: 'la visión por computadora es una rama de la inteligencia artificial '\n",
      "Probabilidades de tópicos: [(0, 0.9243235), (1, 0.07567648)]\n"
     ]
    }
   ],
   "source": [
    "# Asignación de tópicos a cada texto\n",
    "for idx, text in enumerate(corpus):\n",
    "    topic_probabilities = lda_model.get_document_topics(text)\n",
    "    print(f\"\\nTexto {idx + 1}: '{texts[idx]}'\")\n",
    "    print(\"Probabilidades de tópicos:\", topic_probabilities)"
   ]
  },
  {
   "cell_type": "markdown",
   "id": "50a3ba48-7c55-4929-91ed-4d6297e987a8",
   "metadata": {},
   "source": [
    "### LDA scikit-learn"
   ]
  },
  {
   "cell_type": "code",
   "execution_count": 8,
   "id": "5c0c33c1-4dda-42e0-b472-abe70118919e",
   "metadata": {},
   "outputs": [
    {
     "name": "stdout",
     "output_type": "stream",
     "text": [
      "Tópico 1:\n",
      "aprendizaje ética fundamental desarrollo aplicaciones\n",
      "\n",
      "\n",
      "Tópico 2:\n",
      "artificial inteligencia industria computadora revolucionando\n",
      "\n",
      "\n",
      "Documento 1:\n",
      "  - Tópico 1: 0.02\n",
      "  - Tópico 2: 0.98\n",
      "Documento 2:\n",
      "  - Tópico 1: 0.98\n",
      "  - Tópico 2: 0.02\n",
      "Documento 3:\n",
      "  - Tópico 1: 0.98\n",
      "  - Tópico 2: 0.02\n",
      "Documento 4:\n",
      "  - Tópico 1: 0.98\n",
      "  - Tópico 2: 0.02\n",
      "Documento 5:\n",
      "  - Tópico 1: 0.02\n",
      "  - Tópico 2: 0.98\n"
     ]
    },
    {
     "name": "stderr",
     "output_type": "stream",
     "text": [
      "[nltk_data] Downloading package punkt to\n",
      "[nltk_data]     C:\\Users\\xiope\\AppData\\Roaming\\nltk_data...\n",
      "[nltk_data]   Package punkt is already up-to-date!\n",
      "[nltk_data] Downloading package stopwords to\n",
      "[nltk_data]     C:\\Users\\xiope\\AppData\\Roaming\\nltk_data...\n",
      "[nltk_data]   Package stopwords is already up-to-date!\n",
      "[nltk_data] Downloading package wordnet to\n",
      "[nltk_data]     C:\\Users\\xiope\\AppData\\Roaming\\nltk_data...\n",
      "[nltk_data]   Package wordnet is already up-to-date!\n"
     ]
    }
   ],
   "source": [
    "import numpy as np\n",
    "import pandas as pd\n",
    "from sklearn.decomposition import LatentDirichletAllocation\n",
    "from sklearn.feature_extraction.text import CountVectorizer\n",
    "from sklearn.preprocessing import normalize\n",
    "from nltk.corpus import stopwords\n",
    "from nltk.tokenize import word_tokenize\n",
    "from nltk.stem import WordNetLemmatizer\n",
    "import nltk\n",
    "\n",
    "nltk.download('punkt')\n",
    "nltk.download('stopwords')\n",
    "nltk.download('wordnet')\n",
    "\n",
    "# 1. Conjunto de textos de ejemplo\n",
    "documents = [\n",
    " \"La inteligencia artificial está revolucionando la industria.\",\n",
    "    \"Los avances en aprendizaje profundo permiten nuevas aplicaciones.\",\n",
    "    \"La ética en inteligencia artificial es fundamental para su desarrollo.\",\n",
    "    \"Muchos algoritmos de aprendizaje no supervisado son complejos.\",\n",
    "    \"La visión por computadora es una rama de la inteligencia artificial.\"\n",
    "]\n",
    "\n",
    "# 2. Preprocesamiento del texto\n",
    "def preprocess_text(text):\n",
    "    stop_words = set(stopwords.words('spanish'))  # Eliminar palabras vacías en español\n",
    "    lemmatizer = WordNetLemmatizer()\n",
    "    \n",
    "    # Tokenización\n",
    "    tokens = word_tokenize(text.lower())\n",
    "    # Filtrar palabras no deseadas\n",
    "    filtered_tokens = [lemmatizer.lemmatize(word) for word in tokens if word.isalpha() and word not in stop_words]\n",
    "    \n",
    "    return \" \".join(filtered_tokens)\n",
    "\n",
    "preprocessed_documents = [preprocess_text(doc) for doc in documents]\n",
    "\n",
    "# 3. Vectorización del texto\n",
    "vectorizer = CountVectorizer()\n",
    "document_term_matrix = vectorizer.fit_transform(preprocessed_documents)\n",
    "\n",
    "# 4. Aplicar LDA con alpha y beta\n",
    "# alpha (doc_topic_prior) controla la dispersión de los tópicos/temas en los documentos\n",
    "# beta (topic_word_prior) controla la dispersión de las palabras en los tópicos/temas\n",
    "lda = LatentDirichletAllocation(\n",
    "    n_components=2,          # Número de tópicos/temas\n",
    "    doc_topic_prior=0.1,     # Alpha: Mayor valor = documentos con múltiples tópicos/temas\n",
    "    topic_word_prior=0.01,   # Beta: Mayor valor = temas con palabras más diversas\n",
    "    random_state=42\n",
    ")\n",
    "lda.fit(document_term_matrix)\n",
    "\n",
    "# 5. Mostrar los tópicos generados\n",
    "def display_topics(model, feature_names, num_top_words):\n",
    "    for topic_idx, topic in enumerate(model.components_):\n",
    "        print(f\"Tópico {topic_idx + 1}:\")\n",
    "        print(\" \".join([feature_names[i] for i in topic.argsort()[:-num_top_words - 1:-1]]))\n",
    "        print(\"\\n\")\n",
    "\n",
    "num_top_words = 5\n",
    "feature_names = vectorizer.get_feature_names_out()\n",
    "display_topics(lda, feature_names, num_top_words)\n",
    "\n",
    "# 6. Probabilidad de los tópicos en cada documento\n",
    "topic_distribution = lda.transform(document_term_matrix)\n",
    "topic_distribution = normalize(topic_distribution, norm='l1', axis=1)\n",
    "\n",
    "for idx, probs in enumerate(topic_distribution):\n",
    "    print(f\"Documento {idx + 1}:\")\n",
    "    for topic_idx, prob in enumerate(probs):\n",
    "        print(f\"  - Tópico {topic_idx + 1}: {prob:.2f}\")"
   ]
  }
 ],
 "metadata": {
  "kernelspec": {
   "display_name": "Python 3 (ipykernel)",
   "language": "python",
   "name": "python3"
  },
  "language_info": {
   "codemirror_mode": {
    "name": "ipython",
    "version": 3
   },
   "file_extension": ".py",
   "mimetype": "text/x-python",
   "name": "python",
   "nbconvert_exporter": "python",
   "pygments_lexer": "ipython3",
   "version": "3.9.18"
  }
 },
 "nbformat": 4,
 "nbformat_minor": 5
}
